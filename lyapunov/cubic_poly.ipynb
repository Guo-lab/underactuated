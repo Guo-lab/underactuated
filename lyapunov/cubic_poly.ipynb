{
 "cells": [
  {
   "cell_type": "markdown",
   "metadata": {},
   "source": [
    "This notebook provides examples to go along with the [textbook](https://underactuated.csail.mit.edu/lyapunov.html).  I recommend having both windows open, side-by-side!\n"
   ]
  },
  {
   "cell_type": "code",
   "execution_count": null,
   "metadata": {},
   "outputs": [],
   "source": [
    "import numpy as np\n",
    "from pydrake.all import (Jacobian, MathematicalProgram, RegionOfAttraction,\n",
    "                         Solve, SymbolicVectorSystem, Variable, Variables)"
   ]
  },
  {
   "cell_type": "markdown",
   "metadata": {},
   "source": [
    "# Region of attraction for the one-dimensional cubic system"
   ]
  },
  {
   "cell_type": "code",
   "execution_count": null,
   "metadata": {},
   "outputs": [],
   "source": [
    "def sos_roa():\n",
    "    prog = MathematicalProgram()\n",
    "    x = prog.NewIndeterminates(1, \"x\")\n",
    "\n",
    "    # Define the dynamics and Lyapunov function.\n",
    "    f = -x + x**3\n",
    "    V = x.dot(x)\n",
    "    Vdot = Jacobian([V], x).dot(f)[0]\n",
    "\n",
    "    # Define the Lagrange multiplier.\n",
    "    lambda_ = prog.NewSosPolynomial(Variables(x), 2)[0].ToExpression()\n",
    "\n",
    "    prog.AddSosConstraint(-Vdot - lambda_*(1 - V))\n",
    "\n",
    "    result = Solve(prog)\n",
    "\n",
    "    assert result.is_success(), \"Optimization failed\"\n",
    "\n",
    "    print(\"Verified that \" + str(V) + \" < 1 is in the region of attraction.\")\n",
    "\n",
    "sos_roa()"
   ]
  },
  {
   "cell_type": "code",
   "execution_count": null,
   "metadata": {},
   "outputs": [],
   "source": [
    "def sos_roa2():\n",
    "    prog = MathematicalProgram()\n",
    "    x = prog.NewIndeterminates(1, \"x\")\n",
    "    rho = prog.NewContinuousVariables(1, \"rho\")[0]\n",
    "\n",
    "    # Define the dynamics and Lyapunov function.\n",
    "    f = -x + x**3\n",
    "    V = x.dot(x)\n",
    "    Vdot = Jacobian([V], x).dot(f)[0]\n",
    "\n",
    "    # Define the Lagrange multiplier.\n",
    "    lambda_ = prog.NewContinuousVariables(1, \"lambda\")[0]\n",
    "\n",
    "    prog.AddSosConstraint((V - rho) * x.dot(x) - lambda_ * Vdot)\n",
    "    prog.AddLinearCost(-rho)\n",
    "\n",
    "    result = Solve(prog)\n",
    "\n",
    "    assert result.is_success()\n",
    "\n",
    "    print(\"Verified that \" + str(V) + \" < \" + str(result.GetSolution(rho)) +\n",
    "        \" is in the region of attraction.\")\n",
    "\n",
    "    assert np.fabs(result.GetSolution(rho) - 1) < 1e-5\n",
    "\n",
    "sos_roa2()"
   ]
  },
  {
   "cell_type": "markdown",
   "metadata": {},
   "source": [
    "# Region of Attraction codes in Drake"
   ]
  },
  {
   "cell_type": "code",
   "execution_count": null,
   "metadata": {},
   "outputs": [],
   "source": [
    "def roa():\n",
    "    x = Variable(\"x\")\n",
    "    sys = SymbolicVectorSystem(state=[x], dynamics=[-x+x**3])\n",
    "    context = sys.CreateDefaultContext()\n",
    "    V = RegionOfAttraction(system=sys, context=context)\n",
    "\n",
    "    print(\"Verified that \" + str(V) + \" < 1 is in the region of attraction.\")\n",
    "\n",
    "roa()"
   ]
  }
 ],
 "metadata": {
  "kernelspec": {
   "display_name": "Python 3",
   "language": "python",
   "name": "python3"
  },
  "language_info": {
   "codemirror_mode": {
    "name": "ipython",
    "version": 3
   },
   "file_extension": ".py",
   "mimetype": "text/x-python",
   "name": "python",
   "nbconvert_exporter": "python",
   "pygments_lexer": "ipython3",
   "version": "3.10.9 (main, Dec 15 2022, 10:44:50) [Clang 14.0.0 (clang-1400.0.29.202)]"
  },
  "vscode": {
   "interpreter": {
    "hash": "b0fa6594d8f4cbf19f97940f81e996739fb7646882a419484c72d19e05852a7e"
   }
  }
 },
 "nbformat": 4,
 "nbformat_minor": 2
}
