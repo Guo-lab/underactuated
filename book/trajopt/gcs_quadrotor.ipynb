{
 "cells": [
  {
   "cell_type": "code",
   "execution_count": null,
   "metadata": {},
   "outputs": [],
   "source": [
    "import time\n",
    "\n",
    "from pydrake.geometry import StartMeshcat\n",
    "from pydrake.geometry.optimization import Point\n",
    "from pydrake.planning import GcsTrajectoryOptimization\n",
    "\n",
    "from underactuated import running_as_notebook\n",
    "from underactuated.uav_environment import (\n",
    "    CONVEX_GCS_OPTION,\n",
    "    NONLINEAR_GCS_OPTION,\n",
    "    UavEnvironment,\n",
    ")"
   ]
  },
  {
   "cell_type": "markdown",
   "metadata": {},
   "source": [
    "### Generate UAV Environment"
   ]
  },
  {
   "cell_type": "code",
   "execution_count": null,
   "metadata": {},
   "outputs": [],
   "source": [
    "meshcat = StartMeshcat()"
   ]
  },
  {
   "cell_type": "code",
   "execution_count": null,
   "metadata": {},
   "outputs": [],
   "source": [
    "uav_env = UavEnvironment(seed=8)\n",
    "regions, edges_between_regions = uav_env.compile()\n",
    "\n",
    "if not running_as_notebook:\n",
    "    CONVEX_GCS_OPTION.max_rounded_paths = 1\n",
    "    NONLINEAR_GCS_OPTION.max_rounded_paths = 1"
   ]
  },
  {
   "cell_type": "markdown",
   "metadata": {},
   "source": [
    "### Plan a Trajectory for the UAV"
   ]
  },
  {
   "cell_type": "code",
   "execution_count": null,
   "metadata": {},
   "outputs": [],
   "source": [
    "# The maximum velocity limits for the skydio2\n",
    "# were obtained from their website.\n",
    "qDt_max = 16.0\n",
    "# While the maximum acceleration are not publicly available, we assume\n",
    "# an estimated thrust to weight ratio of something slightly greater than 2.\n",
    "qDDt_max = 10.0"
   ]
  },
  {
   "cell_type": "markdown",
   "metadata": {},
   "source": [
    "#### Baseline: Classical GCS\n",
    "With the classical GCS formulation, we can enforce velocity limits, but no acceleration limits.\n",
    "The duration transcription doesn't allow us to enforce higher order continuity constraints on the trajectory.\n",
    "In the objective the path length and time will be minimized."
   ]
  },
  {
   "cell_type": "code",
   "execution_count": null,
   "metadata": {},
   "outputs": [],
   "source": [
    "gcs = GcsTrajectoryOptimization(3)\n",
    "main = gcs.AddRegions(regions, edges_between_regions, order=6, h_min=0, h_max=20)\n",
    "source = gcs.AddRegions(\n",
    "    [Point(uav_env.DEFAULT_START)], order=0, h_min=0, h_max=0, name=\"source\"\n",
    ")\n",
    "target = gcs.AddRegions(\n",
    "    [Point(uav_env.DEFAULT_GOAL)], order=0, h_min=0, h_max=0, name=\"target\"\n",
    ")\n",
    "source_to_main = gcs.AddEdges(source, main)\n",
    "main_to_target = gcs.AddEdges(main, target)\n",
    "\n",
    "source_to_main.AddZeroDerivativeConstraints(1)\n",
    "main_to_target.AddZeroDerivativeConstraints(1)\n",
    "source_to_main.AddZeroDerivativeConstraints(2)\n",
    "main_to_target.AddZeroDerivativeConstraints(2)\n",
    "\n",
    "gcs.AddVelocityBounds(3 * [-qDt_max], 3 * [qDt_max])\n",
    "\n",
    "gcs.AddTimeCost()\n",
    "gcs.AddPathLengthCost()\n",
    "\n",
    "start_time = time.time()\n",
    "baseline_traj, result = gcs.SolvePath(source, target, CONVEX_GCS_OPTION)\n",
    "print(\n",
    "    f\"Is successful: {result.is_success()} in {round(time.time() - start_time, 3)} seconds.\"\n",
    ")\n",
    "print(\n",
    "    f\"Total trajectory time: {round(baseline_traj.end_time() - baseline_traj.start_time(), 3)} seconds.\"\n",
    ")"
   ]
  },
  {
   "cell_type": "markdown",
   "metadata": {},
   "source": [
    "#### Nonlinear GCS: Shortest Path\n",
    "With the nonlinear extension, we can enforce acceleration limits in addition to the velocity limits.\n",
    "Further, we can enforce higher continuity constraints, here we will enforce continuity up to the 4th derivative.\n",
    "In the objective the path length and time will be minimized."
   ]
  },
  {
   "cell_type": "code",
   "execution_count": null,
   "metadata": {},
   "outputs": [],
   "source": [
    "gcs = GcsTrajectoryOptimization(3)\n",
    "main = gcs.AddRegions(regions, edges_between_regions, order=6, h_min=0, h_max=20)\n",
    "source = gcs.AddRegions(\n",
    "    [Point(uav_env.DEFAULT_START)], order=0, h_min=0, h_max=0, name=\"source\"\n",
    ")\n",
    "target = gcs.AddRegions(\n",
    "    [Point(uav_env.DEFAULT_GOAL)], order=0, h_min=0, h_max=0, name=\"target\"\n",
    ")\n",
    "source_to_main = gcs.AddEdges(source, main)\n",
    "main_to_target = gcs.AddEdges(main, target)\n",
    "\n",
    "source_to_main.AddZeroDerivativeConstraints(1)\n",
    "main_to_target.AddZeroDerivativeConstraints(1)\n",
    "source_to_main.AddZeroDerivativeConstraints(2)\n",
    "main_to_target.AddNonlinearDerivativeBounds(3 * [0], 3 * [0], 2)\n",
    "\n",
    "gcs.AddContinuityConstraints(1)  # Velocity Continuity\n",
    "gcs.AddContinuityConstraints(2)  # Acceleration Continuity\n",
    "gcs.AddContinuityConstraints(3)  # Jerk Continuity\n",
    "gcs.AddContinuityConstraints(4)  # Snap Continuity\n",
    "\n",
    "gcs.AddVelocityBounds(3 * [-qDt_max], 3 * [qDt_max])\n",
    "gcs.AddNonlinearDerivativeBounds(3 * [-qDDt_max], 3 * [qDDt_max], 2)\n",
    "\n",
    "gcs.AddTimeCost()\n",
    "gcs.AddPathLengthCost()\n",
    "\n",
    "start_time = time.time()\n",
    "shortest_path_traj, result = gcs.SolvePath(source, target, NONLINEAR_GCS_OPTION)\n",
    "print(\n",
    "    f\"Is successful: {result.is_success()} in {round(time.time() - start_time, 3)} seconds.\"\n",
    ")\n",
    "if result.is_success():\n",
    "    print(\n",
    "        f\"Total trajectory time: {round(shortest_path_traj.end_time() - shortest_path_traj.start_time(), 3)} seconds.\"\n",
    "    )"
   ]
  },
  {
   "cell_type": "markdown",
   "metadata": {},
   "source": [
    "#### Nonlinear GCS: Minimum Snap\n",
    "This problem is similar to the shortest path problem, but the objective is to minimize the snap."
   ]
  },
  {
   "cell_type": "code",
   "execution_count": null,
   "metadata": {},
   "outputs": [],
   "source": [
    "## NOTE: this example is waiting on AddNormalizedPathDerivativeCost landing in Drake.\n",
    "\n",
    "# gcs = GcsTrajectoryOptimization(3)\n",
    "# main = gcs.AddRegions(regions, edges_between_regions, order=6, h_min=1e-4, h_max=20)\n",
    "# source = gcs.AddRegions(\n",
    "#     [Point(uav_env.DEFAULT_START)], order=0, h_min=0, h_max=0, name=\"source\"\n",
    "# )\n",
    "# target = gcs.AddRegions(\n",
    "#     [Point(uav_env.DEFAULT_GOAL)], order=0, h_min=0, h_max=0, name=\"target\"\n",
    "# )\n",
    "# source_to_main = gcs.AddEdges(source, main)\n",
    "# main_to_target = gcs.AddEdges(main, target)\n",
    "\n",
    "# source_to_main.AddVelocityBounds(3 * [0], 3 * [0])\n",
    "# main_to_target.AddVelocityBounds(3 * [0], 3 * [0])\n",
    "# source_to_main.AddNonlinearDerivativeBounds(3 * [0], 3 * [0], 2)\n",
    "# main_to_target.AddNonlinearDerivativeBounds(3 * [0], 3 * [0], 2)\n",
    "\n",
    "# gcs.AddContinuityConstraints(1)  # Velocity Continuity\n",
    "# gcs.AddContinuityConstraints(2)  # Acceleration Continuity\n",
    "# gcs.AddContinuityConstraints(3)  # Jerk Continuity\n",
    "# gcs.AddContinuityConstraints(4)  # Snap Continuity\n",
    "\n",
    "# gcs.AddVelocityBounds(3 * [-qDt_max], 3 * [qDt_max])\n",
    "# gcs.AddNonlinearDerivativeBounds(3 * [-qDDt_max], 3 * [qDDt_max], 2)\n",
    "\n",
    "# # Minimum snap cost.\n",
    "# gcs.AddNormalizedPathDerivativeCost(4)\n",
    "\n",
    "# start_time = time.time()\n",
    "# minimum_snap_traj, result = gcs.SolvePath(source, target, NONLINEAR_GCS_OPTION)\n",
    "# print(\n",
    "#     f\"Is successful: {result.is_success()} in {round(time.time() - start_time, 3)} seconds.\"\n",
    "# )\n",
    "# print(\n",
    "#     f\"Total trajectory time: {round(minimum_snap_traj.end_time() - minimum_snap_traj.start_time(), 3)} seconds.\"\n",
    "# )"
   ]
  },
  {
   "cell_type": "markdown",
   "metadata": {},
   "source": [
    "### Visualize the Trajectories"
   ]
  },
  {
   "cell_type": "code",
   "execution_count": null,
   "metadata": {},
   "outputs": [],
   "source": [
    "if result.is_success():\n",
    "    uav_env.animate_trajectory(\n",
    "        meshcat,\n",
    "        [baseline_traj, shortest_path_traj],\n",
    "        #    [baseline_traj, shortest_path_traj, minimum_snap_traj],\n",
    "        fly_in_sequence=True,\n",
    "    )"
   ]
  },
  {
   "cell_type": "code",
   "execution_count": null,
   "metadata": {},
   "outputs": [],
   "source": []
  }
 ],
 "metadata": {
  "kernelspec": {
   "display_name": "venv",
   "language": "python",
   "name": "python3"
  },
  "language_info": {
   "codemirror_mode": {
    "name": "ipython",
    "version": 3
   },
   "file_extension": ".py",
   "mimetype": "text/x-python",
   "name": "python",
   "nbconvert_exporter": "python",
   "pygments_lexer": "ipython3",
   "version": "3.10.12"
  }
 },
 "nbformat": 4,
 "nbformat_minor": 2
}
