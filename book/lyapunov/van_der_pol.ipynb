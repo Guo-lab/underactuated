{
 "cells": [
  {
   "cell_type": "markdown",
   "metadata": {},
   "source": [
    "This notebook provides examples to go along with the [textbook](https://underactuated.csail.mit.edu/lyapunov.html).  I recommend having both windows open, side-by-side!\n"
   ]
  },
  {
   "cell_type": "code",
   "execution_count": null,
   "metadata": {},
   "outputs": [],
   "source": [
    "import matplotlib.pyplot as plt\n",
    "import mpld3\n",
    "import numpy as np\n",
    "from IPython.display import display\n",
    "from pydrake.all import (\n",
    "    RegionOfAttraction,\n",
    "    SymbolicVectorSystem,\n",
    "    Variable,\n",
    "    plot_sublevelset_expression,\n",
    ")\n",
    "from pydrake.examples import VanDerPolOscillator\n",
    "\n",
    "from underactuated import plot_2d_phase_portrait, running_as_notebook\n",
    "\n",
    "if running_as_notebook:\n",
    "    mpld3.enable_notebook()"
   ]
  },
  {
   "cell_type": "markdown",
   "metadata": {},
   "source": [
    "# Time-reversed van der Pol Oscillator\n",
    "\n",
    "We also use this example in the exercises at the end of the Lyapunov chapter, and work through all of the details of the formulation.  I highly recommend you try it out!\n",
    "\n",
    "N.B. -- we know how to get much larger/tighter (inner) approximations of this RoA.  I will be implementing those ideas in drake's RegionOfAttraction method very soon.  Hopefully the region will be even bigger next time you try it."
   ]
  },
  {
   "cell_type": "code",
   "execution_count": null,
   "metadata": {},
   "outputs": [],
   "source": [
    "def vdp_roa():\n",
    "    x1 = Variable(\"x1\")\n",
    "    x2 = Variable(\"x2\")\n",
    "    sys = SymbolicVectorSystem(\n",
    "        state=[x1, x2], dynamics=[-x2, x1 + (x1 * x1 - 1) * x2]\n",
    "    )\n",
    "    context = sys.CreateDefaultContext()\n",
    "    V = RegionOfAttraction(system=sys, context=context)\n",
    "\n",
    "    fig, ax = plt.subplots(figsize=(10, 10))\n",
    "    plot_2d_phase_portrait(sys, (-3, 3), (-3, 3))\n",
    "    limit_cycle = VanDerPolOscillator.CalcLimitCycle()\n",
    "    plt.plot(\n",
    "        limit_cycle[0],\n",
    "        limit_cycle[1],\n",
    "        color=\"k\",\n",
    "        linewidth=3,\n",
    "        label=\"Known ROA boundary\",\n",
    "    )\n",
    "    plt.legend(loc=1)\n",
    "    plot_sublevelset_expression(ax, V)\n",
    "    display(mpld3.display())\n",
    "\n",
    "\n",
    "vdp_roa()"
   ]
  }
 ],
 "metadata": {
  "kernelspec": {
   "display_name": "Python 3",
   "language": "python",
   "name": "python3"
  },
  "language_info": {
   "codemirror_mode": {
    "name": "ipython",
    "version": 3
   },
   "file_extension": ".py",
   "mimetype": "text/x-python",
   "name": "python",
   "nbconvert_exporter": "python",
   "pygments_lexer": "ipython3",
   "version": "3.10.9 (main, Dec 15 2022, 10:44:50) [Clang 14.0.0 (clang-1400.0.29.202)]"
  },
  "vscode": {
   "interpreter": {
    "hash": "b0fa6594d8f4cbf19f97940f81e996739fb7646882a419484c72d19e05852a7e"
   }
  }
 },
 "nbformat": 4,
 "nbformat_minor": 2
}
