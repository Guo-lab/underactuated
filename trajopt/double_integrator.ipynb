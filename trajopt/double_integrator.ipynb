{
 "cells": [
  {
   "attachments": {},
   "cell_type": "markdown",
   "metadata": {},
   "source": [
    "This notebook provides examples to go along with the [textbook](https://underactuated.csail.mit.edu/trajopt.html).  I recommend having both windows open, side-by-side!\n",
    "\n",
    "# Trajectory optimization for the double integrator"
   ]
  },
  {
   "cell_type": "code",
   "execution_count": null,
   "metadata": {},
   "outputs": [],
   "source": [
    "import sys\n",
    "import time\n",
    "\n",
    "import matplotlib.pyplot as plt\n",
    "import numpy as np\n",
    "import pydot\n",
    "from IPython.display import HTML, SVG, clear_output, display\n",
    "from pydrake.all import (\n",
    "    Binding,\n",
    "    Box,\n",
    "    DiagramBuilder,\n",
    "    DirectCollocation,\n",
    "    DirectTranscription,\n",
    "    FiniteHorizonLinearQuadraticRegulatorOptions,\n",
    "    GraphOfConvexSets,\n",
    "    GraphOfConvexSetsOptions,\n",
    "    GurobiSolver,\n",
    "    HPolyhedron,\n",
    "    L2NormCost,\n",
    "    LinearSystem,\n",
    "    LogVectorOutput,\n",
    "    MakeFiniteHorizonLinearQuadraticRegulator,\n",
    "    MakeFirstAvailableSolver,\n",
    "    MathematicalProgram,\n",
    "    MosekSolver,\n",
    "    MultibodyPlant,\n",
    "    MultibodyPositionToGeometryPose,\n",
    "    Parser,\n",
    "    PiecewisePolynomial,\n",
    "    PlanarSceneGraphVisualizer,\n",
    "    Point,\n",
    "    PointCloud,\n",
    "    Rgba,\n",
    "    RigidTransform,\n",
    "    RotationMatrix,\n",
    "    SceneGraph,\n",
    "    Simulator,\n",
    "    Solve,\n",
    "    Sphere,\n",
    "    StartMeshcat,\n",
    "    TrajectorySource,\n",
    "    Variable,\n",
    "    eq,\n",
    ")\n",
    "\n",
    "from underactuated import ConfigureParser, running_as_notebook\n",
    "from underactuated.jupyter import AdvanceToAndVisualize"
   ]
  },
  {
   "cell_type": "code",
   "execution_count": null,
   "metadata": {},
   "outputs": [],
   "source": [
    "# Start the visualizer (run this cell only once, each instance consumes a port)\n",
    "meshcat = StartMeshcat()"
   ]
  },
  {
   "attachments": {},
   "cell_type": "markdown",
   "metadata": {},
   "source": [
    "# Direct Transcription (using Mathematical Program directly)"
   ]
  },
  {
   "cell_type": "code",
   "execution_count": null,
   "metadata": {},
   "outputs": [],
   "source": [
    "def double_integrator():\n",
    "    # Discrete-time approximation of the double integrator.\n",
    "    dt = 0.01\n",
    "    A = np.eye(2) + dt * np.mat(\"0 1; 0 0\")\n",
    "    B = dt * np.mat(\"0; 1\")\n",
    "\n",
    "    prog = MathematicalProgram()\n",
    "\n",
    "    N = 284  # Note: I had to do a manual \"line search\" to find this.\n",
    "\n",
    "    # Create decision variables\n",
    "    u = np.empty((1, N - 1), dtype=Variable)\n",
    "    x = np.empty((2, N), dtype=Variable)\n",
    "    for n in range(N - 1):\n",
    "        u[:, n] = prog.NewContinuousVariables(1, \"u\" + str(n))\n",
    "        x[:, n] = prog.NewContinuousVariables(2, \"x\" + str(n))\n",
    "    x[:, N - 1] = prog.NewContinuousVariables(2, \"x\" + str(N))\n",
    "\n",
    "    # Add constraints\n",
    "    x0 = [-2, 0]\n",
    "    prog.AddBoundingBoxConstraint(x0, x0, x[:, 0])\n",
    "    for n in range(N - 1):\n",
    "        # Will eventually be prog.AddConstraint(x[:,n+1] == A@x[:,n] + B@u[:,n])\n",
    "        # See drake issues 12841 and 8315\n",
    "        prog.AddConstraint(eq(x[:, n + 1], A.dot(x[:, n]) + B.dot(u[:, n])))\n",
    "        prog.AddBoundingBoxConstraint(-1, 1, u[:, n])\n",
    "    xf = [0, 0]\n",
    "    prog.AddBoundingBoxConstraint(xf, xf, x[:, N - 1])\n",
    "\n",
    "    result = Solve(prog)\n",
    "\n",
    "    x_sol = result.GetSolution(x)\n",
    "    assert result.is_success(), \"Optimization failed\"\n",
    "\n",
    "    plt.figure()\n",
    "    plt.plot(x_sol[0, :], x_sol[1, :])\n",
    "    plt.xlabel(\"q\")\n",
    "    plt.ylabel(\"qdot\")\n",
    "\n",
    "\n",
    "double_integrator()"
   ]
  },
  {
   "attachments": {},
   "cell_type": "markdown",
   "metadata": {},
   "source": [
    "## DirectTranscription (using the DirectTranscription class)\n",
    "\n",
    "Because this pattern of making decision variables that are indexed over time, adding the dynamic constraints, defining the running cost and constraints, is so common, we have wrappers in drake on top of `MathematicalProgram` which handle these details for you.\n",
    "\n",
    "The optimization below is identical to the example above, but using this helper class."
   ]
  },
  {
   "cell_type": "code",
   "execution_count": null,
   "metadata": {},
   "outputs": [],
   "source": [
    "def dirtran_example():\n",
    "    # Discrete-time approximation of the double integrator.\n",
    "    dt = 0.01\n",
    "    A = np.eye(2) + dt * np.mat(\"0 1; 0 0\")\n",
    "    B = dt * np.mat(\"0; 1\")\n",
    "    C = np.eye(2)\n",
    "    D = np.zeros((2, 1))\n",
    "    sys = LinearSystem(A, B, C, D, dt)\n",
    "\n",
    "    N = 284\n",
    "    x0 = [-2, 0]\n",
    "    xf = [0, 0]\n",
    "\n",
    "    dirtran = DirectTranscription(sys, sys.CreateDefaultContext(), N)\n",
    "    prog = dirtran.prog()\n",
    "    prog.AddBoundingBoxConstraint(x0, x0, dirtran.initial_state())\n",
    "    prog.AddBoundingBoxConstraint(xf, xf, dirtran.final_state())\n",
    "    dirtran.AddConstraintToAllKnotPoints(dirtran.input()[0] <= 1)\n",
    "    dirtran.AddConstraintToAllKnotPoints(dirtran.input()[0] >= -1)\n",
    "\n",
    "    result = Solve(prog)\n",
    "    x_sol = dirtran.ReconstructStateTrajectory(result)\n",
    "    assert result.is_success(), \"Optimization failed\"\n",
    "\n",
    "    plt.figure()\n",
    "    x_values = x_sol.vector_values(x_sol.get_segment_times())\n",
    "\n",
    "    plt.plot(x_values[0, :], x_values[1, :])\n",
    "    plt.xlabel(\"q\")\n",
    "    plt.ylabel(\"qdot\")\n",
    "\n",
    "\n",
    "dirtran_example()"
   ]
  },
  {
   "cell_type": "markdown",
   "metadata": {},
   "source": [
    "One thing that I'm very proud of (it was a lot of work!) is the fact that drake is often smart enough to introspect your system, costs, and constraints and understand whether you have formulated a convex problem or a non-convex one.  The optimization above calls a convex optimization solver.  But if you had passed in a nonlinear system instead, it would have switched to calling a solver that supports nonlinear programming."
   ]
  },
  {
   "cell_type": "code",
   "execution_count": null,
   "metadata": {},
   "outputs": [],
   "source": []
  }
 ],
 "metadata": {
  "interpreter": {
   "hash": "b0fa6594d8f4cbf19f97940f81e996739fb7646882a419484c72d19e05852a7e"
  },
  "kernelspec": {
   "display_name": "Python 3.9.12 64-bit",
   "language": "python",
   "name": "python3"
  },
  "language_info": {
   "codemirror_mode": {
    "name": "ipython",
    "version": 3
   },
   "file_extension": ".py",
   "mimetype": "text/x-python",
   "name": "python",
   "nbconvert_exporter": "python",
   "pygments_lexer": "ipython3",
   "version": "3.10.9 (main, Dec 15 2022, 10:44:50) [Clang 14.0.0 (clang-1400.0.29.202)]"
  }
 },
 "nbformat": 4,
 "nbformat_minor": 2
}
