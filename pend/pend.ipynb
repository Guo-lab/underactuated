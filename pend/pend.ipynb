{
 "cells": [
  {
   "cell_type": "markdown",
   "metadata": {
    "id": "TKvYiJgnYExi"
   },
   "source": [
    "This notebook provides examples to go along with the [textbook](https://underactuated.csail.mit.edu/pend.html).  I recommend having both windows open, side-by-side!\n"
   ]
  },
  {
   "cell_type": "code",
   "execution_count": null,
   "metadata": {
    "id": "A4QOaw_zYLfI"
   },
   "outputs": [],
   "source": [
    "import numpy as np\n",
    "from pydrake.all import (DiagramBuilder, MeshcatVisualizer, RigidTransform,\n",
    "                         RotationMatrix, SceneGraph, Simulator, StartMeshcat)\n",
    "from pydrake.examples import PendulumGeometry, PendulumPlant\n",
    "\n",
    "from underactuated import running_as_notebook\n",
    "from underactuated.meshcat_utils import MeshcatSliders"
   ]
  },
  {
   "cell_type": "code",
   "execution_count": null,
   "metadata": {},
   "outputs": [],
   "source": [
    "# Start the visualizer (run this cell only once, each instance consumes a port)\n",
    "meshcat = StartMeshcat()"
   ]
  },
  {
   "cell_type": "markdown",
   "metadata": {
    "id": "C1sdq2R88C16"
   },
   "source": [
    "# Dynamics of the Simple Pendulum\n",
    "\n",
    "I find it extremely useful to use simulation to get physical intuition about these systems.  Let's make sure we understand how the simple pendulum moves when it is exposed to a torque.\n",
    "\n",
    "For the duration of this notebook, we'll use the equations of motion $$ml^2 \\ddot\\theta + b\\dot\\theta + mgl \\sin\\theta = u,$$ where $u$ is our torque input.\n",
    "\n",
    "## Basic simulation\n",
    "\n",
    "The pendulum is a core example in Drake.  We could certainly load it from a .urdf file, but Drake offers a Pendulum implementation that makes it convenient to manipulate the parameters (and visualize the system with different parameters)."
   ]
  },
  {
   "cell_type": "code",
   "execution_count": null,
   "metadata": {
    "id": "8wj7ZlyEw_AB"
   },
   "outputs": [],
   "source": [
    "def pendulum_simulation():\n",
    "    builder = DiagramBuilder()\n",
    "    pendulum = builder.AddSystem(PendulumPlant())\n",
    "\n",
    "    # Setup visualization\n",
    "    scene_graph = builder.AddSystem(SceneGraph())\n",
    "    PendulumGeometry.AddToBuilder(builder, pendulum.get_state_output_port(),\n",
    "                                  scene_graph)\n",
    "    MeshcatVisualizer.AddToBuilder(builder, scene_graph,\n",
    "                                                   meshcat)\n",
    "    meshcat.Delete()\n",
    "    meshcat.Set2dRenderMode(X_WC=RigidTransform(RotationMatrix.MakeZRotation(np.pi), [0, 1, 0]))\n",
    "\n",
    "    # Setup slider input\n",
    "    meshcat.AddSlider('u', min=-5, max=5, step=.1, value=0.0)\n",
    "    torque_system = builder.AddSystem(MeshcatSliders(meshcat,['u']))\n",
    "    builder.Connect(torque_system.get_output_port(), pendulum.get_input_port())\n",
    "\n",
    "    diagram = builder.Build()\n",
    "\n",
    "    # Set up a simulator to run this diagram\n",
    "    simulator = Simulator(diagram)\n",
    "    context = simulator.get_mutable_context()\n",
    "\n",
    "    meshcat.AddButton('Stop Simulation')\n",
    "\n",
    "    # Set the initial conditions\n",
    "    context.SetContinuousState([0.5, 0]) # theta, thetadot\n",
    "\n",
    "    if running_as_notebook:  # Then we're not just running as a test on CI.\n",
    "        simulator.set_target_realtime_rate(1.0)\n",
    "\n",
    "        print('Use the slider in the MeshCat controls to apply elbow torque.')\n",
    "        print(\"Press 'Stop Simulation' in MeshCat to continue.\")\n",
    "        while meshcat.GetButtonClicks('Stop Simulation') < 1:\n",
    "            simulator.AdvanceTo(simulator.get_context().get_time() + 1.0)\n",
    "    else:\n",
    "        simulator.AdvanceTo(0.1)\n",
    "\n",
    "    meshcat.DeleteAddedControls()\n",
    "\n",
    "pendulum_simulation()"
   ]
  },
  {
   "cell_type": "markdown",
   "metadata": {
    "id": "aNHdvSloKUSn"
   },
   "source": [
    "After running the cell above, you should use the \"Open Controls\" panel in meshcat to see the interactive slider that will control the torque.  Press the \"Stop Simulation\" button to regain control and continue in the notebook."
   ]
  }
 ],
 "metadata": {
  "colab": {
   "collapsed_sections": [],
   "name": "Underactuated Robotics - The Simple Pendulum.ipynb",
   "provenance": [],
   "toc_visible": true
  },
  "kernelspec": {
   "display_name": "Python 3",
   "language": "python",
   "name": "python3"
  },
  "language_info": {
   "codemirror_mode": {
    "name": "ipython",
    "version": 3
   },
   "file_extension": ".py",
   "mimetype": "text/x-python",
   "name": "python",
   "nbconvert_exporter": "python",
   "pygments_lexer": "ipython3",
   "version": "3.10.9"
  },
  "vscode": {
   "interpreter": {
    "hash": "b0fa6594d8f4cbf19f97940f81e996739fb7646882a419484c72d19e05852a7e"
   }
  }
 },
 "nbformat": 4,
 "nbformat_minor": 0
}
