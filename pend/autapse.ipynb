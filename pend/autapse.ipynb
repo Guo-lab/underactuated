{
 "cells": [
  {
   "cell_type": "markdown",
   "metadata": {
    "id": "TKvYiJgnYExi"
   },
   "source": [
    "This notebook provides examples to go along with the [textbook](https://underactuated.csail.mit.edu/pend.html).  I recommend having both windows open, side-by-side!\n"
   ]
  },
  {
   "cell_type": "code",
   "execution_count": null,
   "metadata": {
    "id": "A4QOaw_zYLfI"
   },
   "outputs": [],
   "source": [
    "import numpy as np\n",
    "from pydrake.all import StartMeshcat\n",
    "\n",
    "from underactuated import plot_2d_phase_portrait, running_as_notebook\n",
    "from underactuated.meshcat_cpp_utils import interact\n"
   ]
  },
  {
   "cell_type": "code",
   "execution_count": null,
   "metadata": {},
   "outputs": [],
   "source": [
    "# Start the visualizer (run this cell only once, each instance consumes a port)\n",
    "meshcat = StartMeshcat()"
   ]
  },
  {
   "cell_type": "markdown",
   "metadata": {
    "id": "zKmlDpfeKUSo"
   },
   "source": [
    "# Autapse\n",
    "\n",
    "The simplest recurrent neural network model.  $$\\dot{x} + x = \\tanh(wx + u)$$"
   ]
  },
  {
   "cell_type": "code",
   "execution_count": null,
   "metadata": {
    "id": "ftbxk7ddKUSo"
   },
   "outputs": [],
   "source": [
    "\n",
    "def autapse(x, w=1, u=0):\n",
    "    \"\"\"Args:\n",
    "    w is feedback weight\n",
    "    u is input\n",
    "    \"\"\"\n",
    "    return -x + np.tanh(w * x + u)\n",
    "\n",
    "Autapse = np.vectorize(autapse)\n",
    "xmax = 2.\n",
    "ymax = 1.\n",
    "x = np.arange(-xmax, xmax, 0.01)\n",
    "\n",
    "meshcat.Delete()\n",
    "meshcat.Set2dRenderMode(xmax=xmax, xmin=-xmax, ymin=-ymax, ymax=ymax)\n",
    "meshcat.SetProperty('/Grid', 'visible', True)\n",
    "meshcat.SetProperty('/Axes', 'visible', True)\n",
    "\n",
    "def update(w=1, u=0):\n",
    "    # TODO(russt): Visualize fixed points here, too.\n",
    "    meshcat.SetLine(\"autapse\", np.vstack([x,0*x, Autapse(x, w=w, u=u)]), line_width=4.0)\n",
    "\n",
    "interact(meshcat, update, w=(0,3,0.1), u=(-1.5,1.5,0.1))"
   ]
  },
  {
   "cell_type": "code",
   "execution_count": null,
   "metadata": {},
   "outputs": [],
   "source": []
  }
 ],
 "metadata": {
  "colab": {
   "collapsed_sections": [],
   "name": "Underactuated Robotics - The Simple Pendulum.ipynb",
   "provenance": [],
   "toc_visible": true
  },
  "kernelspec": {
   "display_name": "Python 3",
   "language": "python",
   "name": "python3"
  },
  "language_info": {
   "codemirror_mode": {
    "name": "ipython",
    "version": 3
   },
   "file_extension": ".py",
   "mimetype": "text/x-python",
   "name": "python",
   "nbconvert_exporter": "python",
   "pygments_lexer": "ipython3",
   "version": "3.10.9"
  },
  "vscode": {
   "interpreter": {
    "hash": "b0fa6594d8f4cbf19f97940f81e996739fb7646882a419484c72d19e05852a7e"
   }
  }
 },
 "nbformat": 4,
 "nbformat_minor": 0
}
